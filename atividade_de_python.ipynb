{
  "nbformat": 4,
  "nbformat_minor": 0,
  "metadata": {
    "colab": {
      "provenance": [],
      "include_colab_link": true
    },
    "kernelspec": {
      "name": "python3",
      "display_name": "Python 3"
    },
    "language_info": {
      "name": "python"
    }
  },
  "cells": [
    {
      "cell_type": "markdown",
      "metadata": {
        "id": "view-in-github",
        "colab_type": "text"
      },
      "source": [
        "<a href=\"https://colab.research.google.com/github/GeovaneDSS/ativadade-de-python/blob/main/atividade_de_python.ipynb\" target=\"_parent\"><img src=\"https://colab.research.google.com/assets/colab-badge.svg\" alt=\"Open In Colab\"/></a>"
      ]
    },
    {
      "cell_type": "code",
      "execution_count": null,
      "metadata": {
        "colab": {
          "base_uri": "https://localhost:8080/"
        },
        "id": "Uphy6QgT2g7C",
        "outputId": "f021cdda-7324-415a-8da6-595702b2ce2a"
      },
      "outputs": [
        {
          "output_type": "stream",
          "name": "stdout",
          "text": [
            "28\n"
          ]
        }
      ],
      "source": [
        "#2.12\n",
        "#A\n",
        "\n",
        "print(1+2+3+4+5+6+7)"
      ]
    },
    {
      "cell_type": "code",
      "source": [
        "#B\n",
        "a=(65+56+45)\n",
        "b=(a/3)\n",
        "print(\"A media é:\",\"%.2f\"% b )"
      ],
      "metadata": {
        "colab": {
          "base_uri": "https://localhost:8080/"
        },
        "id": "OzalCpMz4Pr-",
        "outputId": "ed98f64b-8867-4048-9413-61d1e4dcf1db"
      },
      "execution_count": null,
      "outputs": [
        {
          "output_type": "stream",
          "name": "stdout",
          "text": [
            "A media é: 55.33\n"
          ]
        }
      ]
    },
    {
      "cell_type": "code",
      "source": [
        "#C\n",
        "print(2**20)"
      ],
      "metadata": {
        "colab": {
          "base_uri": "https://localhost:8080/"
        },
        "id": "KaD3s9jT4U5S",
        "outputId": "4edcaeba-6b42-4a8a-c89c-fb36fa9003ca"
      },
      "execution_count": null,
      "outputs": [
        {
          "output_type": "stream",
          "name": "stdout",
          "text": [
            "1048576\n"
          ]
        }
      ]
    },
    {
      "cell_type": "code",
      "source": [
        "#D\n",
        "a= 61\n",
        "b = 1\n",
        "c = 0\n",
        "while c <= 4365:\n",
        "  b = b+1\n",
        "  c = a*b\n",
        "  print(c)"
      ],
      "metadata": {
        "id": "MkMQf5ee60qh"
      },
      "execution_count": null,
      "outputs": []
    },
    {
      "cell_type": "code",
      "source": [
        "#E\n",
        "a = 4365\n",
        "b = 4365/61\n",
        "\n",
        "print(a-b)"
      ],
      "metadata": {
        "colab": {
          "base_uri": "https://localhost:8080/"
        },
        "id": "t0zSPW2d4U9k",
        "outputId": "16ea3317-b5ec-4fa7-a0bf-ee5bc2988bdd"
      },
      "execution_count": null,
      "outputs": [
        {
          "output_type": "stream",
          "name": "stdout",
          "text": [
            "4293.44262295082\n"
          ]
        }
      ]
    },
    {
      "cell_type": "code",
      "source": [
        "#2.13\n",
        "s1 = '-'\n",
        "s2 = '+'\n",
        "\n",
        "print(s1+s2)\n"
      ],
      "metadata": {
        "colab": {
          "base_uri": "https://localhost:8080/"
        },
        "id": "Yv6p5oRH9Nk5",
        "outputId": "da828bf9-b952-4a1b-f2dc-b278c3af2140"
      },
      "execution_count": null,
      "outputs": [
        {
          "output_type": "stream",
          "name": "stdout",
          "text": [
            "-+\n"
          ]
        }
      ]
    },
    {
      "cell_type": "code",
      "source": [
        "eval('3 + 4')"
      ],
      "metadata": {
        "id": "gK7wxf4eMhPd",
        "outputId": "c2daac5f-2fd0-4ea3-cb75-776f56901ce8",
        "colab": {
          "base_uri": "https://localhost:8080/"
        }
      },
      "execution_count": null,
      "outputs": [
        {
          "output_type": "execute_result",
          "data": {
            "text/plain": [
              "7"
            ]
          },
          "metadata": {},
          "execution_count": 37
        }
      ]
    },
    {
      "cell_type": "code",
      "source": [
        "s = 'jtiew0thje0irthj0eirper'\n",
        "\n",
        "print(s)"
      ],
      "metadata": {
        "colab": {
          "base_uri": "https://localhost:8080/"
        },
        "id": "w4jo_TLbz2uQ",
        "outputId": "7a7807dc-f26c-4ae4-f8a8-4f28ac43a8cb"
      },
      "execution_count": 1,
      "outputs": [
        {
          "output_type": "stream",
          "name": "stdout",
          "text": [
            "jtiew0thje0irthj0eirper\n"
          ]
        }
      ]
    },
    {
      "cell_type": "code",
      "source": [
        "s = 'adeus'"
      ],
      "metadata": {
        "id": "Nff4DgGg4GGM"
      },
      "execution_count": 3,
      "outputs": []
    }
  ]
}